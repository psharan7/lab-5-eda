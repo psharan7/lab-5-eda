{
 "cells": [
  {
   "cell_type": "markdown",
   "id": "3b4af2a7",
   "metadata": {},
   "source": [
    "# Lab 5 | EDA & Visualisation"
   ]
  },
  {
   "cell_type": "code",
   "execution_count": 1,
   "id": "81b83cce",
   "metadata": {},
   "outputs": [
    {
     "data": {
      "application/vnd.microsoft.datawrangler.viewer.v0+json": {
       "columns": [
        {
         "name": "index",
         "rawType": "int64",
         "type": "integer"
        },
        {
         "name": "student_id",
         "rawType": "int64",
         "type": "integer"
        },
        {
         "name": "age",
         "rawType": "int64",
         "type": "integer"
        },
        {
         "name": "gpa",
         "rawType": "float64",
         "type": "float"
        },
        {
         "name": "gender",
         "rawType": "object",
         "type": "string"
        },
        {
         "name": "major",
         "rawType": "object",
         "type": "string"
        },
        {
         "name": "year",
         "rawType": "object",
         "type": "string"
        }
       ],
       "ref": "02e1cc35-49d2-4406-834e-a6c27565dda8",
       "rows": [
        [
         "0",
         "1",
         "14",
         null,
         "F",
         "Economics",
         "freshman"
        ],
        [
         "1",
         "2",
         "17",
         "2.92",
         "M",
         "History",
         "senior"
        ],
        [
         "2",
         "3",
         "17",
         "2.97",
         "F",
         "Physics",
         "senior"
        ],
        [
         "3",
         "4",
         "16",
         "2.76",
         "F",
         "Physics",
         "junior"
        ],
        [
         "4",
         "5",
         "16",
         "2.24",
         "M",
         "Chemistry",
         "junior"
        ]
       ],
       "shape": {
        "columns": 6,
        "rows": 5
       }
      },
      "text/html": [
       "<div>\n",
       "<style scoped>\n",
       "    .dataframe tbody tr th:only-of-type {\n",
       "        vertical-align: middle;\n",
       "    }\n",
       "\n",
       "    .dataframe tbody tr th {\n",
       "        vertical-align: top;\n",
       "    }\n",
       "\n",
       "    .dataframe thead th {\n",
       "        text-align: right;\n",
       "    }\n",
       "</style>\n",
       "<table border=\"1\" class=\"dataframe\">\n",
       "  <thead>\n",
       "    <tr style=\"text-align: right;\">\n",
       "      <th></th>\n",
       "      <th>student_id</th>\n",
       "      <th>age</th>\n",
       "      <th>gpa</th>\n",
       "      <th>gender</th>\n",
       "      <th>major</th>\n",
       "      <th>year</th>\n",
       "    </tr>\n",
       "  </thead>\n",
       "  <tbody>\n",
       "    <tr>\n",
       "      <th>0</th>\n",
       "      <td>1</td>\n",
       "      <td>14</td>\n",
       "      <td>NaN</td>\n",
       "      <td>F</td>\n",
       "      <td>Economics</td>\n",
       "      <td>freshman</td>\n",
       "    </tr>\n",
       "    <tr>\n",
       "      <th>1</th>\n",
       "      <td>2</td>\n",
       "      <td>17</td>\n",
       "      <td>2.92</td>\n",
       "      <td>M</td>\n",
       "      <td>History</td>\n",
       "      <td>senior</td>\n",
       "    </tr>\n",
       "    <tr>\n",
       "      <th>2</th>\n",
       "      <td>3</td>\n",
       "      <td>17</td>\n",
       "      <td>2.97</td>\n",
       "      <td>F</td>\n",
       "      <td>Physics</td>\n",
       "      <td>senior</td>\n",
       "    </tr>\n",
       "    <tr>\n",
       "      <th>3</th>\n",
       "      <td>4</td>\n",
       "      <td>16</td>\n",
       "      <td>2.76</td>\n",
       "      <td>F</td>\n",
       "      <td>Physics</td>\n",
       "      <td>junior</td>\n",
       "    </tr>\n",
       "    <tr>\n",
       "      <th>4</th>\n",
       "      <td>5</td>\n",
       "      <td>16</td>\n",
       "      <td>2.24</td>\n",
       "      <td>M</td>\n",
       "      <td>Chemistry</td>\n",
       "      <td>junior</td>\n",
       "    </tr>\n",
       "  </tbody>\n",
       "</table>\n",
       "</div>"
      ],
      "text/plain": [
       "   student_id  age   gpa gender      major      year\n",
       "0           1   14   NaN      F  Economics  freshman\n",
       "1           2   17  2.92      M    History    senior\n",
       "2           3   17  2.97      F    Physics    senior\n",
       "3           4   16  2.76      F    Physics    junior\n",
       "4           5   16  2.24      M  Chemistry    junior"
      ]
     },
     "execution_count": 1,
     "metadata": {},
     "output_type": "execute_result"
    }
   ],
   "source": [
    "# Task A\n",
    "import pandas as pd\n",
    "df = pd.read_csv(\"../data/students.csv\")\n",
    "df.head()"
   ]
  },
  {
   "cell_type": "code",
   "execution_count": 2,
   "id": "599d9e0d",
   "metadata": {},
   "outputs": [
    {
     "name": "stdout",
     "output_type": "stream",
     "text": [
      "<class 'pandas.core.frame.DataFrame'>\n",
      "RangeIndex: 100 entries, 0 to 99\n",
      "Data columns (total 6 columns):\n",
      " #   Column      Non-Null Count  Dtype  \n",
      "---  ------      --------------  -----  \n",
      " 0   student_id  100 non-null    int64  \n",
      " 1   age         100 non-null    int64  \n",
      " 2   gpa         90 non-null     float64\n",
      " 3   gender      100 non-null    object \n",
      " 4   major       95 non-null     object \n",
      " 5   year        100 non-null    object \n",
      "dtypes: float64(1), int64(2), object(3)\n",
      "memory usage: 4.8+ KB\n"
     ]
    },
    {
     "data": {
      "application/vnd.microsoft.datawrangler.viewer.v0+json": {
       "columns": [
        {
         "name": "index",
         "rawType": "object",
         "type": "string"
        },
        {
         "name": "0",
         "rawType": "int64",
         "type": "integer"
        }
       ],
       "ref": "bd1e06fe-64ee-48b8-835b-4076de8056f0",
       "rows": [
        [
         "student_id",
         "0"
        ],
        [
         "age",
         "0"
        ],
        [
         "gpa",
         "10"
        ],
        [
         "gender",
         "0"
        ],
        [
         "major",
         "5"
        ],
        [
         "year",
         "0"
        ]
       ],
       "shape": {
        "columns": 1,
        "rows": 6
       }
      },
      "text/plain": [
       "student_id     0\n",
       "age            0\n",
       "gpa           10\n",
       "gender         0\n",
       "major          5\n",
       "year           0\n",
       "dtype: int64"
      ]
     },
     "execution_count": 2,
     "metadata": {},
     "output_type": "execute_result"
    }
   ],
   "source": [
    "# Task B\n",
    "df.info()\n",
    "df.isna().sum()"
   ]
  },
  {
   "cell_type": "markdown",
   "id": "cadd3c1f",
   "metadata": {},
   "source": [
    "The GPA column has the most missing columns. If the data was self-reported, this could be because some students were not sure or were unwilling to report their GPA."
   ]
  },
  {
   "cell_type": "code",
   "execution_count": 3,
   "id": "0428c966",
   "metadata": {},
   "outputs": [
    {
     "name": "stdout",
     "output_type": "stream",
     "text": [
      "              age        gpa\n",
      "count  100.000000  90.000000\n",
      "mean    16.130000   2.624667\n",
      "std      1.375507   0.476898\n",
      "min     14.000000   1.630000\n",
      "25%     15.000000   2.215000\n",
      "50%     16.000000   2.665000\n",
      "75%     17.000000   2.970000\n",
      "max     18.000000   3.930000\n"
     ]
    }
   ],
   "source": [
    "# Task C\n",
    "summary = df[[\"age\", \"gpa\"]].describe()\n",
    "\n",
    "print(summary)\n"
   ]
  },
  {
   "cell_type": "code",
   "execution_count": 4,
   "id": "9dd4cd13",
   "metadata": {},
   "outputs": [
    {
     "data": {
      "text/plain": [
       "<Axes: xlabel='gpa', ylabel='Count'>"
      ]
     },
     "execution_count": 4,
     "metadata": {},
     "output_type": "execute_result"
    },
    {
     "data": {
      "image/png": "[encoded data removed]",
      "text/plain": [
       "<Figure size 640x480 with 1 Axes>"
      ]
     },
     "metadata": {},
     "output_type": "display_data"
    },
    {
     "data": {
      "image/png": "[encoded data removed]",
      "text/plain": [
       "<Figure size 640x480 with 1 Axes>"
      ]
     },
     "metadata": {},
     "output_type": "display_data"
    }
   ],
   "source": [
    "# Task D\n",
    "import matplotlib.pyplot as plt\n",
    "import seaborn as sns\n",
    "\n",
    "plt.figure()\n",
    "df[\"age\"].hist(bins=range(14,19), align=\"left\", rwidth=0.8)\n",
    "\n",
    "plt.figure()\n",
    "sns.histplot(df[\"gpa\"], kde=True)"
   ]
  },
  {
   "cell_type": "markdown",
   "id": "d23aebb9",
   "metadata": {},
   "source": [
    "Age: The data is very left-skewed, with the most common age being 17 years old.\n",
    "\n",
    "GPA: The data is slightly right skewed with the majority of the data clustered around the middle-left of the distribution - median of about 2.7 points."
   ]
  },
  {
   "cell_type": "code",
   "execution_count": 5,
   "id": "dc786956",
   "metadata": {},
   "outputs": [
    {
     "data": {
      "text/plain": [
       "np.float64(0.8786075344584666)"
      ]
     },
     "execution_count": 5,
     "metadata": {},
     "output_type": "execute_result"
    },
    {
     "data": {
      "image/png": "[encoded data removed]",
      "text/plain": [
       "<Figure size 640x480 with 1 Axes>"
      ]
     },
     "metadata": {},
     "output_type": "display_data"
    }
   ],
   "source": [
    "# Task E\n",
    "import matplotlib.pyplot as plt\n",
    "import seaborn as sns\n",
    "\n",
    "sns.scatterplot(x=\"age\", y=\"gpa\", data=df)\n",
    "\n",
    "df[\"age\"].corr(df[\"gpa\"])"
   ]
  },
  {
   "cell_type": "markdown",
   "id": "e31bb5d7",
   "metadata": {},
   "source": [
    "In this data set, GPA tends to trend up with age - older kids tend to have higher GPAs."
   ]
  },
  {
   "cell_type": "code",
   "execution_count": 6,
   "id": "56104d42",
   "metadata": {},
   "outputs": [],
   "source": [
    "# Task F\n",
    "import numpy as np\n",
    "\n",
    "df[\"major\"] = df[\"major\"].str.lower()\n",
    "df[\"major\"] = df[\"major\"].str.strip()\n",
    "\n",
    "df[\"major\"].replace('', np.nan)\n",
    "df = df.dropna(subset=[\"major\"])\n"
   ]
  },
  {
   "cell_type": "code",
   "execution_count": 7,
   "id": "e14b0b22",
   "metadata": {},
   "outputs": [],
   "source": [
    "# Task G\n",
    "\n",
    "df.to_csv(\"../data/students_clean.csv\", index=False) "
   ]
  },
  {
   "cell_type": "markdown",
   "id": "8587123a",
   "metadata": {},
   "source": [
    "# Conclusion\n",
    "\n",
    "We found that for the students in this data set, as age increases, GPA tends to increase as well. The distribution for GPA was slightly right-skewed, and the one for age was very left-skewed."
   ]
  }
 ],
 "metadata": {
  "kernelspec": {
   "display_name": "lab_5",
   "language": "python",
   "name": "python3"
  },
  "language_info": {
   "codemirror_mode": {
    "name": "ipython",
    "version": 3
   },
   "file_extension": ".py",
   "mimetype": "text/x-python",
   "name": "python",
   "nbconvert_exporter": "python",
   "pygments_lexer": "ipython3",
   "version": "3.13.5"
  }
 },
 "nbformat": 4,
 "nbformat_minor": 5
}
